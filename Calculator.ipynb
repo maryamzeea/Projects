{
  "nbformat": 4,
  "nbformat_minor": 0,
  "metadata": {
    "colab": {
      "provenance": [],
      "authorship_tag": "ABX9TyM1eAbGK7eDQ7qEd8Syceuu",
      "include_colab_link": true
    },
    "kernelspec": {
      "name": "python3",
      "display_name": "Python 3"
    },
    "language_info": {
      "name": "python"
    }
  },
  "cells": [
    {
      "cell_type": "markdown",
      "metadata": {
        "id": "view-in-github",
        "colab_type": "text"
      },
      "source": [
        "<a href=\"https://colab.research.google.com/github/maryamzeea/Projects/blob/main/Calculator.ipynb\" target=\"_parent\"><img src=\"https://colab.research.google.com/assets/colab-badge.svg\" alt=\"Open In Colab\"/></a>"
      ]
    },
    {
      "cell_type": "code",
      "execution_count": null,
      "metadata": {
        "id": "pKPyz4NYV4Rz",
        "colab": {
          "base_uri": "https://localhost:8080/"
        },
        "outputId": "c2723dae-d69b-4641-a050-fef970b695c0"
      },
      "outputs": [
        {
          "output_type": "stream",
          "name": "stdout",
          "text": [
            "\n",
            " Simple Calculator\n",
            "1. Add\n",
            "2. Subtract\n",
            "3. Multiply\n",
            "4. Divide\n",
            "5. Exit\n",
            "Enter your choice (1-5): 4\n",
            "Enter numbers separated by space: 4 2\n",
            "Result: 2.0\n",
            "\n",
            " Simple Calculator\n",
            "1. Add\n",
            "2. Subtract\n",
            "3. Multiply\n",
            "4. Divide\n",
            "5. Exit\n",
            "Enter your choice (1-5): 1\n",
            "Enter numbers separated by space: 4 5 6 3\n",
            "Result: 18\n",
            "\n",
            " Simple Calculator\n",
            "1. Add\n",
            "2. Subtract\n",
            "3. Multiply\n",
            "4. Divide\n",
            "5. Exit\n"
          ]
        }
      ],
      "source": [
        "num = {}\n",
        "\n",
        "def show_menu():\n",
        "    print(\"\\n Simple Calculator\")\n",
        "    print(\"1. Add\")\n",
        "    print(\"2. Subtract\")\n",
        "    print(\"3. Multiply\")\n",
        "    print(\"4. Divide\")\n",
        "    print(\"5. Exit\")\n",
        "\n",
        "def add(*num):\n",
        "    return sum(num)\n",
        "\n",
        "def subtract(*num):\n",
        "    return num[0] - sum(num[1:])\n",
        "\n",
        "def multiply(*num):\n",
        "    result = 1\n",
        "    for n in num:\n",
        "        result *= n\n",
        "    return result\n",
        "\n",
        "def divide(*num):\n",
        "    result = num[0]\n",
        "    for n in num[1:]:\n",
        "      if n == 0:\n",
        "        return \"Cannot divide by zero\"\n",
        "      else:\n",
        "        result /= n\n",
        "    return result\n",
        "\n",
        "# add1 = add(1, 2, 3, 4, 5)\n",
        "# print(add1)\n",
        "# subtract1 = subtract(4, 5)\n",
        "# print(subtract1)\n",
        "# multiply1 = multiply(4, 5)\n",
        "# print(multiply1)\n",
        "# divide1 = divide(4,3)\n",
        "# print(divide1)\n",
        "\n",
        "while True:\n",
        "    show_menu()\n",
        "    choice = input(\"Enter your choice (1-5): \")\n",
        "\n",
        "    if choice == '1':\n",
        "        num = list(map(int, input(\"Enter numbers separated by space: \").split()))\n",
        "        print(\"Result:\", add(*num))\n",
        "\n",
        "    elif choice == '2':\n",
        "        num = list(map(int, input(\"Enter numbers separated by space: \").split()))\n",
        "        print(\"Result:\", subtract(*num))\n",
        "\n",
        "    elif choice == '3':\n",
        "        num = list(map(int, input(\"Enter numbers separated by space: \").split()))\n",
        "        print(\"Result:\", multiply(*num))\n",
        "\n",
        "    elif choice == '4':\n",
        "        num = list(map(int, input(\"Enter numbers separated by space: \").split()))\n",
        "        print(\"Result:\", divide(*num))\n",
        "\n",
        "    elif choice == '5':\n",
        "        print(\"Exiting the calculator. Goodbye!\")\n",
        "        break\n",
        "    else:\n",
        "       print(\"Invalid choice. Please try again.\")\n",
        ""
      ]
    }
  ]
}