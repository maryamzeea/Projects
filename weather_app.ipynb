{
  "cells": [
    {
      "cell_type": "markdown",
      "metadata": {
        "id": "view-in-github",
        "colab_type": "text"
      },
      "source": [
        "<a href=\"https://colab.research.google.com/github/maryamzeea/Projects/blob/main/weather_app.ipynb\" target=\"_parent\"><img src=\"https://colab.research.google.com/assets/colab-badge.svg\" alt=\"Open In Colab\"/></a>"
      ]
    },
    {
      "cell_type": "code",
      "execution_count": null,
      "metadata": {
        "colab": {
          "base_uri": "https://localhost:8080/"
        },
        "id": "ErOkWKRAlN_2",
        "outputId": "c3287ee4-6a9b-44a0-e626-4be1f1085645"
      },
      "outputs": [
        {
          "name": "stdout",
          "output_type": "stream",
          "text": [
            "{'coord': {'lon': 73.0833, 'lat': 31.4167}, 'weather': [{'id': 800, 'main': 'Clear', 'description': 'clear sky', 'icon': '01n'}], 'base': 'stations', 'main': {'temp': 304.54, 'feels_like': 304.9, 'temp_min': 304.54, 'temp_max': 304.54, 'pressure': 1002, 'humidity': 42, 'sea_level': 1002, 'grnd_level': 981}, 'visibility': 10000, 'wind': {'speed': 3.89, 'deg': 183, 'gust': 9.89}, 'clouds': {'all': 0}, 'dt': 1757966824, 'sys': {'country': 'PK', 'sunrise': 1757983938, 'sunset': 1758028385}, 'timezone': 18000, 'id': 1179400, 'name': 'Faisalabad', 'cod': 200}\n"
          ]
        }
      ],
      "source": [
        "import requests\n",
        "\n",
        "API_KEYS = \"a9bc4df3e7a66847e47adcf1a46d64dc\"\n",
        "city = \"Faisalabad\"\n",
        "url = f\"https://api.openweathermap.org/data/2.5/weather?q={city}&appid={API_KEYS}\"\n",
        "\n",
        "response = requests.get(url)\n",
        "if response.status_code == 200:\n",
        "  weather_data = response.json()\n",
        "  print(weather_data)\n",
        "else:\n",
        "  print(\"Error.Status Code:\",response.status_code)\n"
      ]
    },
    {
      "cell_type": "code",
      "execution_count": null,
      "metadata": {
        "colab": {
          "base_uri": "https://localhost:8080/"
        },
        "id": "-nxvTBII5VyD",
        "outputId": "98212f4e-ff94-414f-9c37-ef9581ae0958"
      },
      "outputs": [
        {
          "name": "stdout",
          "output_type": "stream",
          "text": [
            "\n",
            "---Weather APP---\n",
            "Enter City Name (or 'q' to quit): faisalabad\n"
          ]
        },
        {
          "output_type": "stream",
          "name": "stderr",
          "text": [
            "/tmp/ipython-input-2293386208.py:21: DeprecationWarning: datetime.datetime.utcfromtimestamp() is deprecated and scheduled for removal in a future version. Use timezone-aware objects to represent datetimes in UTC: datetime.datetime.fromtimestamp(timestamp, datetime.UTC).\n",
            "  sunrise_time = datetime.utcfromtimestamp(data[\"sys\"][\"sunrise\"]+ tz_offset).strftime(\"%I:%M:%S %p\")\n",
            "/tmp/ipython-input-2293386208.py:22: DeprecationWarning: datetime.datetime.utcfromtimestamp() is deprecated and scheduled for removal in a future version. Use timezone-aware objects to represent datetimes in UTC: datetime.datetime.fromtimestamp(timestamp, datetime.UTC).\n",
            "  sunset_time = datetime.utcfromtimestamp(data[\"sys\"][\"sunset\"]+ tz_offset).strftime(\"%I:%M:%S %p\")\n"
          ]
        },
        {
          "name": "stdout",
          "output_type": "stream",
          "text": [
            "\n",
            "---WEATHER APPLICATION---\n",
            "City: Faisalabad\n",
            "Temperature: 34.45C\n",
            "Description: Broken Clouds\n",
            "Humidity: 38%\n",
            "Wind Speed: 1.73\n",
            "Sunrise: 05:52:53 AM\n",
            "Sunset: 06:11:46 PM\n",
            "Weather Data Added Successfully\n",
            "\n",
            "---Weather APP---\n",
            "Enter City Name (or 'q' to quit): madinah\n",
            "\n",
            "---WEATHER APPLICATION---\n",
            "City: Medina\n",
            "Temperature: 41.24C\n",
            "Description: Clear Sky\n",
            "Humidity: 6%\n",
            "Wind Speed: 1.54\n",
            "Sunrise: 06:08:27 AM\n",
            "Sunset: 06:23:53 PM\n",
            "Weather Data Added Successfully\n",
            "\n",
            "---Weather APP---\n",
            "Enter City Name (or 'q' to quit): mecca\n",
            "\n",
            "---WEATHER APPLICATION---\n",
            "City: Makkah al Mukarramah\n",
            "Temperature: 34.35C\n",
            "Description: Broken Clouds\n",
            "Humidity: 36%\n",
            "Wind Speed: 2.63\n",
            "Sunrise: 06:08:14 AM\n",
            "Sunset: 06:22:24 PM\n",
            "Weather Data Added Successfully\n",
            "\n",
            "---Weather APP---\n",
            "Enter City Name (or 'q' to quit): q\n"
          ]
        }
      ],
      "source": [
        "import requests\n",
        "from datetime import datetime,timedelta\n",
        "\n",
        "#FILE SETUP\n",
        "Weather_Data = \"weather_data.txt\"\n",
        "\n",
        "#API SETUP\n",
        "API_KEY = \"a9bc4df3e7a66847e47adcf1a46d64dc\"\n",
        "BASE_URL = \"https://api.openweathermap.org/data/2.5/weather\"\n",
        "\n",
        "#WEATHER APP\n",
        "def api_key(city):\n",
        "  try:\n",
        "    url = f\"{BASE_URL}?q={city}&appid={API_KEY}&units=metric\"\n",
        "    response = requests.get(url)\n",
        "    if response.status_code == 200:\n",
        "      data = response.json()\n",
        "\n",
        "      tz_offset = data[\"timezone\"]\n",
        "\n",
        "      sunrise_time = datetime.utcfromtimestamp(data[\"sys\"][\"sunrise\"]+ tz_offset).strftime(\"%I:%M:%S %p\")\n",
        "      sunset_time = datetime.utcfromtimestamp(data[\"sys\"][\"sunset\"]+ tz_offset).strftime(\"%I:%M:%S %p\")\n",
        "\n",
        "      weather = {\n",
        "          \"City\": data[\"name\"],\n",
        "          \"Temperature\": f\"{data['main']['temp']}C\",\n",
        "          \"Description\": data[\"weather\"][0][\"description\"].title(),\n",
        "          \"Humidity\": f\"{data['main']['humidity']}%\",\n",
        "          \"Wind Speed\": f\"{data['wind']['speed']}\",\n",
        "          \"Sunrise\": sunrise_time,\n",
        "          \"Sunset\": sunset_time\n",
        "      }\n",
        "      return weather\n",
        "    elif response.status_code == 404:\n",
        "      print(\"City Not Found\")\n",
        "  except Exception as e:\n",
        "    print(f\"Error: {e}\")\n",
        "\n",
        "#<>FILE\n",
        "def add_weather(city):\n",
        "  weather = api_key(city)\n",
        "  if weather:\n",
        "    with open(Weather_Data,\"a\") as file:\n",
        "      for key,value in weather.items():\n",
        "        file.write(f\"{key}:{value}\\n\")\n",
        "      file.write(\"\\n\")\n",
        "      print(\"Weather Data Added Successfully\")\n",
        "\n",
        "#DISPLAY WEATHER INFORMATION\n",
        "def display_weather(weather):\n",
        "  print(\"\\n---WEATHER APPLICATION---\")\n",
        "  for key, value in weather.items():\n",
        "    print(f\"{key}: {value}\")\n",
        "\n",
        "\n",
        "#MAIN PROGRAM\n",
        "while True:\n",
        "  print(\"\\n---Weather APP---\")\n",
        "  city = input(\"Enter City Name (or 'q' to quit): \")\n",
        "  if city.lower() == \"q\":\n",
        "    break\n",
        "  weather = api_key(city)\n",
        "  if weather:\n",
        "    display_weather(weather)\n",
        "    add_weather(city)\n",
        "  else:\n",
        "    print(\"City Not Found\")\n",
        "\n",
        "\n",
        "\n"
      ]
    },
    {
      "cell_type": "code",
      "source": [
        "import requests\n",
        "from datetime import datetime\n",
        "\n",
        "\n",
        "\n",
        "#API SETUP\n",
        "API_KEY = \"a9bc4df3e7a66847e47adcf1a46d64dc\"\n",
        "BASE_URL = \"https://api.openweathermap.org/data/2.5/forecast\"\n",
        "\n",
        "#WEATHER forecast APP\n",
        "def weather_forecast(city):\n",
        "  url = f\"{BASE_URL}?q={city}&appid={API_KEY}&units=metric\"\n",
        "  response = requests.get(url)\n",
        "  if response.status_code == 200:\n",
        "    data = response.json()\n",
        "    forecast_data = data[\"list\"]\n",
        "    forecast_list = []\n",
        "    for forecast in forecast_data:\n",
        "      date_time = datetime.fromtimestamp(forecast[\"dt\"]).strftime(\"%I:%M:%S %p\")\n",
        "      temp = forecast[\"main\"][\"temp\"]\n",
        "      description = forecast[\"weather\"][0][\"description\"].title()\n",
        "      forecast_list.append(f\"{date_time}: {temp}C, {description}\")\n",
        "    return forecast_list\n",
        "  elif response.status_code == 404:\n",
        "    print(\"City Not Found\")\n",
        "  else:\n",
        "    print(\"Error Occured in API\")\n",
        "\n",
        "city = input(\"Enter City Name: \")\n",
        "forecast = weather_forecast(city)\n",
        "if forecast:\n",
        "  for day in forecast[:5]:\n",
        "      print(day)\n",
        "else:\n",
        "  print(\"No Forecast Data Found\")\n"
      ],
      "metadata": {
        "colab": {
          "base_uri": "https://localhost:8080/"
        },
        "id": "zschlCAQgBem",
        "outputId": "b71a8c8c-ee89-455d-87ee-060bd358119d"
      },
      "execution_count": null,
      "outputs": [
        {
          "output_type": "stream",
          "name": "stdout",
          "text": [
            "Enter City Name: faisalabad\n",
            "06:00:00 PM: 32.37C, Scattered Clouds\n",
            "09:00:00 PM: 31.98C, Scattered Clouds\n",
            "12:00:00 AM: 30.94C, Scattered Clouds\n",
            "03:00:00 AM: 32.83C, Scattered Clouds\n",
            "06:00:00 AM: 37.57C, Few Clouds\n"
          ]
        }
      ]
    },
    {
      "cell_type": "code",
      "source": [
        "import requests\n",
        "from datetime import datetime\n",
        "\n",
        "#FILE SETUP\n",
        "Weather_Data = \"forecast_data.txt\"\n",
        "\n",
        "#API SETUP\n",
        "API_KEY = \"a9bc4df3e7a66847e47adcf1a46d64dc\"\n",
        "BASE_URL = \"https://api.openweathermap.org/data/2.5/forecast\"\n",
        "\n",
        "#WEATHER FORECAST\n",
        "def forecast(city):\n",
        "  url = f\"{BASE_URL}?q={city}&appid={API_KEY}&units=metric\"\n",
        "  response = requests.get(url)\n",
        "  if response.status_code == 200:\n",
        "    data = response.json()\n",
        "    forecast_data = data[\"list\"]\n",
        "    daily_forecast = {}\n",
        "    for forecast in forecast_data:\n",
        "      date_time = datetime.fromtimestamp(forecast[\"dt\"])\n",
        "      date = date_time.date()\n",
        "      time = date_time.strftime(\"%H:%M\")\n",
        "\n",
        "      if time == \"12:00\" and date not in daily_forecast:\n",
        "        daily_forecast[date] = {\n",
        "            \"date\" : date.strftime(\"%Y-%m-%d\"),\n",
        "            \"Temperature\": f\"{forecast['main']['temp']}C\",\n",
        "            \"Description\": forecast[\"weather\"][0][\"description\"].title(),\n",
        "        }\n",
        "\n",
        "    return list(daily_forecast.values())[:5]\n",
        "\n",
        "  elif status_code == 404:\n",
        "    print(\"City Not Found\")\n",
        "  else:\n",
        "    print(\"Error Occured in API\")\n",
        "\n",
        "city = input(\"Enter City Name: \")\n",
        "forecast = forecast(city)\n",
        "if forecast:\n",
        "  print(\"\\n---WEATHER FORECAST---\")\n",
        "  print(f\"\\n5-Day Forecast for {city.title()}:\")\n",
        "  for day in forecast:\n",
        "    print(f\"{day['date']} | {day['Temperature']} | {day['Description']}\")\n",
        "else:\n",
        "  print(\"No Forecast Data Found\")\n"
      ],
      "metadata": {
        "id": "AgP_xyfmvw7D"
      },
      "execution_count": null,
      "outputs": []
    }
  ],
  "metadata": {
    "colab": {
      "provenance": [],
      "authorship_tag": "ABX9TyM4MJzEb8WvXQtzg9eCMgvP",
      "include_colab_link": true
    },
    "kernelspec": {
      "display_name": "Python 3",
      "name": "python3"
    },
    "language_info": {
      "name": "python"
    }
  },
  "nbformat": 4,
  "nbformat_minor": 0
}