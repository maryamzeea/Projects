{
  "nbformat": 4,
  "nbformat_minor": 0,
  "metadata": {
    "colab": {
      "provenance": [],
      "authorship_tag": "ABX9TyMno5c50eLPqACUfb0cpQT2",
      "include_colab_link": true
    },
    "kernelspec": {
      "name": "python3",
      "display_name": "Python 3"
    },
    "language_info": {
      "name": "python"
    }
  },
  "cells": [
    {
      "cell_type": "markdown",
      "metadata": {
        "id": "view-in-github",
        "colab_type": "text"
      },
      "source": [
        "<a href=\"https://colab.research.google.com/github/maryamzeea/Projects/blob/main/countdown.ipynb\" target=\"_parent\"><img src=\"https://colab.research.google.com/assets/colab-badge.svg\" alt=\"Open In Colab\"/></a>"
      ]
    },
    {
      "cell_type": "code",
      "execution_count": 14,
      "metadata": {
        "id": "-dh24_XfpxYz",
        "colab": {
          "base_uri": "https://localhost:8080/"
        },
        "outputId": "8ae554a3-e5bd-4a62-d380-f139abdc9a43"
      },
      "outputs": [
        {
          "output_type": "stream",
          "name": "stdout",
          "text": [
            "Enter the Event time (YYYY-MM-DD HH:MM:SS):2025-09-24  03:32:00\n",
            "\n",
            " Event time: 2025-09-23 22:32:00\n",
            "Time remaining: 0 days, 0 hours, 0 minutes, 16 seconds\n"
          ]
        },
        {
          "output_type": "stream",
          "name": "stderr",
          "text": [
            "/tmp/ipython-input-2175299365.py:17: DeprecationWarning: datetime.datetime.utcnow() is deprecated and scheduled for removal in a future version. Use timezone-aware objects to represent datetimes in UTC: datetime.datetime.now(datetime.UTC).\n",
            "  current_time = datetime.utcnow()\n"
          ]
        },
        {
          "output_type": "stream",
          "name": "stdout",
          "text": [
            "Time remaining: 0 days, 0 hours, 0 minutes, 15 seconds\n",
            "Time remaining: 0 days, 0 hours, 0 minutes, 14 seconds\n",
            "Time remaining: 0 days, 0 hours, 0 minutes, 13 seconds\n",
            "Time remaining: 0 days, 0 hours, 0 minutes, 12 seconds\n",
            "Time remaining: 0 days, 0 hours, 0 minutes, 11 seconds\n",
            "Time remaining: 0 days, 0 hours, 0 minutes, 10 seconds\n",
            "Time remaining: 0 days, 0 hours, 0 minutes, 9 seconds\n",
            "Time remaining: 0 days, 0 hours, 0 minutes, 8 seconds\n",
            "Time remaining: 0 days, 0 hours, 0 minutes, 7 seconds\n",
            "Time remaining: 0 days, 0 hours, 0 minutes, 6 seconds\n",
            "Time remaining: 0 days, 0 hours, 0 minutes, 5 seconds\n",
            "Time remaining: 0 days, 0 hours, 0 minutes, 4 seconds\n",
            "Time remaining: 0 days, 0 hours, 0 minutes, 3 seconds\n",
            "Time remaining: 0 days, 0 hours, 0 minutes, 2 seconds\n",
            "Time remaining: 0 days, 0 hours, 0 minutes, 1 seconds\n",
            "Time remaining: 0 days, 0 hours, 0 minutes, 0 seconds\n",
            "\n",
            " Countdown Complete!\n"
          ]
        }
      ],
      "source": [
        "from datetime import datetime, timedelta\n",
        "import time\n",
        "\n",
        "PK_offset = 5\n",
        "\n",
        "def get_event_time():\n",
        "  try:\n",
        "    event_time = input(\"Enter the Event time (YYYY-MM-DD HH:MM:SS):\")\n",
        "    local_time  =   datetime.strptime(event_time, \"%Y-%m-%d %H:%M:%S\")\n",
        "    UTC_time = local_time - timedelta(hours=PK_offset)\n",
        "    return UTC_time\n",
        "\n",
        "  except ValueError:\n",
        "    print(\"Invalid format\")\n",
        "\n",
        "def get_remaining_time(event_time):\n",
        "  current_time = datetime.utcnow()\n",
        "  get_remaining_time = event_time - current_time\n",
        "  return get_remaining_time\n",
        "\n",
        "def countdown(time_left):\n",
        "  days = time_left.days\n",
        "  hours, remainder = divmod(time_left.seconds, 3600)\n",
        "  minutes, seconds = divmod(remainder, 60)\n",
        "  print(f\"Time remaining: {days} days, {hours} hours, {minutes} minutes, {seconds} seconds\")\n",
        "\n",
        "def countdown_loop(event_time):\n",
        "  while True:\n",
        "    time_left = get_remaining_time(event_time)\n",
        "    if time_left.total_seconds() <=0:\n",
        "      print(\"\\n Countdown Complete!\")\n",
        "      break\n",
        "    else:\n",
        "      countdown(time_left)\n",
        "      time.sleep(1)\n",
        "\n",
        "\n",
        "event_time = get_event_time()\n",
        "if event_time:\n",
        "  print(\"\\n Event time:\", event_time)\n",
        "  countdown_loop(event_time)\n",
        "\n"
      ]
    },
    {
      "cell_type": "code",
      "source": [
        "from datetime import datetime\n",
        "current_time = datetime.now()\n",
        "formated_time = current_time.strftime(\"%Y-%m-%d %H:%M:%S\")\n",
        "print(formated_time)\n"
      ],
      "metadata": {
        "colab": {
          "base_uri": "https://localhost:8080/"
        },
        "id": "JK5kFIUmqDaN",
        "outputId": "799ba082-2c58-47b0-83ea-e410b75e4660"
      },
      "execution_count": 12,
      "outputs": [
        {
          "output_type": "stream",
          "name": "stdout",
          "text": [
            "2025-09-23 22:19:41\n"
          ]
        }
      ]
    }
  ]
}