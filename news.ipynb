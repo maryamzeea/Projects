{
  "nbformat": 4,
  "nbformat_minor": 0,
  "metadata": {
    "colab": {
      "provenance": [],
      "authorship_tag": "ABX9TyNPcwMHYLEa6Ub5z48M2GgT",
      "include_colab_link": true
    },
    "kernelspec": {
      "name": "python3",
      "display_name": "Python 3"
    },
    "language_info": {
      "name": "python"
    }
  },
  "cells": [
    {
      "cell_type": "markdown",
      "metadata": {
        "id": "view-in-github",
        "colab_type": "text"
      },
      "source": [
        "<a href=\"https://colab.research.google.com/github/maryamzeea/Projects/blob/main/news.ipynb\" target=\"_parent\"><img src=\"https://colab.research.google.com/assets/colab-badge.svg\" alt=\"Open In Colab\"/></a>"
      ]
    },
    {
      "cell_type": "code",
      "execution_count": 1,
      "metadata": {
        "id": "OHBxiVek7F7z",
        "colab": {
          "base_uri": "https://localhost:8080/"
        },
        "outputId": "cbe624d4-b16f-4db7-818b-f620517d137c"
      },
      "outputs": [
        {
          "output_type": "stream",
          "name": "stdout",
          "text": [
            "Enter the key_word:zainab\n",
            "Article No.1\n",
            "Title:The Silencing of Anas al-Sharif\n",
            "Description: A haunting look at the targeted killing of journalist Anas al-Sharif and the war on truth in Gaza.\n",
            "Link: https://www.aljazeera.com/video/featured-documentaries/2025/8/21/the-silencing-of-anas-al-sharif\n",
            "\n",
            "------------------------------\n",
            "Article No.2\n",
            "Title:A year on, Lebanese maimed in Israel's pager attacks on long road to recovery\n",
            "Description: BEIRUT (Reuters) -Zainab Mustarah once spent her days running an events planning firm in Beirut.  On September 17, 2024, thousands of pagers carried by...\n",
            "Link: https://uk.news.yahoo.com/lebanese-maimed-israels-pager-attacks-090539673.html\n",
            "\n",
            "------------------------------\n",
            "Article No.3\n",
            "Title:Flood threat rises as rain lashes India and Pakistan\n",
            "Description: New spell of monsoon rains expected to persist for another 24-48 hours.\n",
            "Link: https://www.aljazeera.com/news/2025/9/4/flood-threat-rises-as-rain-lashes-india-and-pakistan\n",
            "\n",
            "------------------------------\n",
            "Article No.4\n",
            "Title:Upload final season is landing on Prime Video here’s what to expect\n",
            "Description: What if your afterlife was managed by tech support? Welcome back to the world of Upload, where death isn’t the end — it’s just a digital detour. Prime Video’s\n",
            "Link: https://www.talkandroid.com/515852-upload-final-season-is-landing-on-prime-video-heres-what-to-expect/\n",
            "\n",
            "------------------------------\n",
            "Article No.5\n",
            "Title:As UN agencies mull Kenya move, some fear exclusion from Nairobi’s growth\n",
            "Description: Kenyans veer between hope for prosperity and wariness as UN plans relocation of key offices from Western cities.\n",
            "Link: https://www.aljazeera.com/features/2025/8/20/as-un-agencies-mull-kenya-move-some-fear-exclusion-from-nairobis-growth\n",
            "\n",
            "------------------------------\n"
          ]
        }
      ],
      "source": [
        "import requests\n",
        "\n",
        "Api_key = \"c018abf9a5924979b29d20a34f9dfc9d\"\n",
        "Base_Url = \"https://newsapi.org/v2/everything\"\n",
        "def search_news(key_word):\n",
        "  try:\n",
        "      url = f\"{Base_Url}?q={key_word}&apikey={Api_key}&language=en&pageSize=5\"\n",
        "      response = requests.get(url)\n",
        "      data = response.json()\n",
        "\n",
        "      if response.status_code == 200:\n",
        "        articles = data[\"articles\"]\n",
        "        for i,article in enumerate(articles,1):\n",
        "          print(f\"Article No.{i}\")\n",
        "          print(f\"Title:{article['title']}\")\n",
        "          print(f\"Description: {article['description']}\")\n",
        "          print(f\"Link: {article['url']}\\n\")\n",
        "          print(\"-\"*30)\n",
        "      else:\n",
        "        print(\"Error in fetching news\")\n",
        "  except Exception as e:\n",
        "    print(f\"Error:{e}\")\n",
        "\n",
        "key_word = input(\"Enter the key_word:\").title()\n",
        "search_news(key_word)\n",
        "\n"
      ]
    }
  ]
}